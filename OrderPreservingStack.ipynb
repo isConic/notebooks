{
 "cells": [
  {
   "cell_type": "markdown",
   "metadata": {},
   "source": [
    "# An Order Preserving Stack  \n",
    "\n",
    "Order Preserving StackCoerces order on unordered data by propagating order down the stack"
   ]
  },
  {
   "cell_type": "code",
   "execution_count": 1,
   "metadata": {},
   "outputs": [],
   "source": [
    "from typing import Callable\n",
    "class OrderPreservingStack():\n",
    "    def __init__(self, comparator:Callable):\n",
    "        self.stack = []\n",
    "        self.comparator = comparator\n",
    "        self.extrema = None\n",
    "        \n",
    "    def push(self, value):\n",
    "        if self.extrema == None: \n",
    "            self.extrema = value\n",
    "        \n",
    "        if self.comparator(self.extrema, value) == True:\n",
    "            self.extrema = value\n",
    "        \n",
    "        self.stack.append(self.extrema)\n",
    "        \n",
    "    def pop(self):\n",
    "        top_of_stack = self.get_extrema() \n",
    "        self.stack = self.stack[:-1]\n",
    "        return top_of_stack  \n",
    "    \n",
    "    def get_extrema(self):\n",
    "        return self.stack[-1:][0]"
   ]
  },
  {
   "cell_type": "markdown",
   "metadata": {},
   "source": [
    "**Example**"
   ]
  },
  {
   "cell_type": "code",
   "execution_count": 2,
   "metadata": {},
   "outputs": [],
   "source": [
    "example_1 = [1,1,8,3,5,-1]"
   ]
  },
  {
   "cell_type": "code",
   "execution_count": 3,
   "metadata": {},
   "outputs": [],
   "source": [
    "min_stack = OrderPreservingStack(min)\n",
    "for x in example_1:\n",
    "    min_stack.push(x)"
   ]
  },
  {
   "cell_type": "code",
   "execution_count": 4,
   "metadata": {},
   "outputs": [
    {
     "data": {
      "text/plain": [
       "[1, 1, 8, 8, 8, 8]"
      ]
     },
     "execution_count": 4,
     "metadata": {},
     "output_type": "execute_result"
    }
   ],
   "source": [
    "min_stack.stack"
   ]
  },
  {
   "cell_type": "markdown",
   "metadata": {},
   "source": [
    "# Stack with `get_min` and `get_max`"
   ]
  },
  {
   "cell_type": "code",
   "execution_count": 5,
   "metadata": {},
   "outputs": [],
   "source": [
    "class Stack():\n",
    "    def init_extrema(self):\n",
    "        \n",
    "        self.ops_stacks = dict( min = OrderPreservingStack(lambda a,b: a > b), \n",
    "                                max = OrderPreservingStack(lambda a,b: a < b))  \n",
    "        \n",
    "        for k in self.ops_stacks.keys():\n",
    "            setattr(self,\"get_{key}\".format(key = k), self.ops_stacks[k].get_extrema)\n",
    "\n",
    "    \n",
    "    def __init__(self):\n",
    "        self.stack = []\n",
    "        self.init_extrema()  \n",
    "        \n",
    "        \n",
    "    def push(self, value):\n",
    "        self.stack.append(value)\n",
    "        \n",
    "        for stack in self.ops_stacks.values():\n",
    "            stack.push(value)\n",
    "        \n",
    "    def pop(self):\n",
    "        return_value = self.stack[-1:][0]\n",
    "        for stack in self.ops_stacks.values():\n",
    "            stack.pop()\n",
    "        "
   ]
  },
  {
   "cell_type": "code",
   "execution_count": 6,
   "metadata": {},
   "outputs": [],
   "source": [
    "a = Stack()"
   ]
  },
  {
   "cell_type": "code",
   "execution_count": 7,
   "metadata": {},
   "outputs": [],
   "source": [
    "a.push(1)\n",
    "a.push(1)\n",
    "a.push(8)\n",
    "a.push(5)\n",
    "a.push(-1)"
   ]
  },
  {
   "cell_type": "code",
   "execution_count": 8,
   "metadata": {},
   "outputs": [
    {
     "data": {
      "text/plain": [
       "(-1, 8)"
      ]
     },
     "execution_count": 8,
     "metadata": {},
     "output_type": "execute_result"
    }
   ],
   "source": [
    "a.get_min(), a.get_max()"
   ]
  },
  {
   "cell_type": "code",
   "execution_count": null,
   "metadata": {},
   "outputs": [],
   "source": []
  }
 ],
 "metadata": {
  "kernelspec": {
   "display_name": "Python 3",
   "language": "python",
   "name": "python3"
  },
  "language_info": {
   "codemirror_mode": {
    "name": "ipython",
    "version": 3
   },
   "file_extension": ".py",
   "mimetype": "text/x-python",
   "name": "python",
   "nbconvert_exporter": "python",
   "pygments_lexer": "ipython3",
   "version": "3.5.2"
  }
 },
 "nbformat": 4,
 "nbformat_minor": 2
}
